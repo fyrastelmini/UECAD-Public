{
 "cells": [
  {
   "cell_type": "code",
   "execution_count": 20,
   "metadata": {},
   "outputs": [
    {
     "name": "stdout",
     "output_type": "stream",
     "text": [
      "{1: 3466, 91: 3387, 107: 3808, 108: 1759, 111: 1642, 112: 5350, 117: 1642, 119: 1642, 121: 0, 159: 0, 173: 0, 174: 0, 181: 0, 183: 0, 190: 1, 235: 1, 247: 387, 248: 457, 253: 0, 263: 297, 492: 0, 623: 0, 653: 0, 657: 8, 697: 0, 698: 4, 701: 14, 708: 8, 710: 4, 721: 7, 722: 4, 729: 4, 730: 10, 732: 13, 739: 389, 801: 26, 879: 240, 880: 147, 882: 159, 884: 158, 886: 3541, 889: 96, 890: 153, 893: 156, 894: 161, 895: 167, 896: 166, 903: 179, 914: 161, 919: 163, 922: 166, 925: 167, 926: 161, 928: 172, 929: 413, 931: 166, 952: 167, 961: 70, 966: 171, 968: 160, 969: 168, 974: 162, 978: 170, 981: 167, 994: 1323, 996: 164, 1068: 12, 1226: 599, 1232: 41, 1234: 2111, 1251: 102, 1252: 24, 1253: 2, 1258: 146, 1259: 127, 1264: 3170, 1267: 98, 1278: 617, 1284: 104}\n",
      "{32: 3379, 41: 3430, 55: 3379, 79: 3379, 82: 3380, 141: 1977, 144: 5410, 147: 2654, 148: 21, 149: 1642, 171: 2, 238: 297, 270: 47, 275: 7, 276: 7, 278: 250, 290: 0, 293: 0, 318: 5, 335: 1, 439: 0, 560: 0, 683: 46, 685: 29, 687: 3, 693: 3479, 827: 600, 848: 2111, 935: 165, 945: 233, 973: 161, 977: 76, 988: 170, 990: 68, 992: 159, 1007: 7, 1073: 1, 1074: 0, 1106: 0, 1128: 235, 1137: 1, 1143: 0, 1219: 1, 1225: 587, 1230: 196, 1238: 63, 1239: 63, 1242: 372, 1246: 72, 1249: 64, 1255: 1153, 1257: 25, 1260: 21, 1261: 27, 1275: 626, 1279: 617, 1296: 630, 1297: 630, 1302: 624, 1304: 26, 1323: 63}\n",
      "{1241: 3124, 1285: 108, 1300: 643, 1303: 3150}\n",
      "{136: 1644, 240: 57, 345: 485, 887: 154, 905: 169, 936: 164, 941: 154, 942: 148, 971: 154, 1306: 66, 1309: 63, 1310: 64}\n"
     ]
    }
   ],
   "source": [
    "import pandas as pd\n",
    "df=pd.read_csv('train_features.csv')\n",
    "categories=['Education',\n",
    "'Office',\n",
    "'Healthcare',\n",
    "'Lodging/residential']\n",
    "dict={}\n",
    "for category in categories:\n",
    "    tmp=df[df['primary_use']==category]\n",
    "    tmp.reset_index(inplace=True)\n",
    "    dict_tmp={}\n",
    "    for building_id in tmp['building_id'].unique():\n",
    "        #update dict_tmp with key=building_id and value is the number of NANs\n",
    "        dict_tmp[building_id]=tmp[tmp['building_id']==building_id].isnull().sum().sum()\n",
    "    #update dict with key=category and value=the key of the building_id with the least NANs\n",
    "    min_key=min(dict_tmp, key=dict_tmp.get)\n",
    "    #drop the min_key from dict_tmp\n",
    "    dict_tmp.pop(min_key)\n",
    "    print(dict_tmp)\n",
    "    dict[category]=min(dict_tmp, key=dict_tmp.get)"
   ]
  },
  {
   "cell_type": "code",
   "execution_count": 2,
   "metadata": {},
   "outputs": [],
   "source": [
    "import pandas as pd\n",
    "df=pd.read_csv('train_features.csv')\n",
    "categories=['Education',\n",
    "'Office',\n",
    "'Healthcare',\n",
    "'Lodging/residential']\n",
    "dict={}\n",
    "for category in categories:\n",
    "    tmp=df[df['primary_use']==category]\n",
    "    tmp.reset_index(inplace=True)\n",
    "    dict_tmp={}\n",
    "    for building_id in tmp['building_id'].unique():\n",
    "        #update dict_tmp with key=building_id and value is the number of NANs\n",
    "        dict_tmp[building_id]=tmp[tmp['building_id']==building_id].isnull().sum().sum()\n",
    "    #update dict with key=category and value=the key of the building_id with the least NANs\n",
    "    min_key=min(dict_tmp, key=dict_tmp.get)\n",
    "    dict[category]=min(dict_tmp, key=dict_tmp.get)"
   ]
  },
  {
   "cell_type": "code",
   "execution_count": 3,
   "metadata": {},
   "outputs": [
    {
     "data": {
      "text/plain": [
       "{'Education': 118,\n",
       " 'Office': 246,\n",
       " 'Healthcare': 1245,\n",
       " 'Lodging/residential': 1311}"
      ]
     },
     "execution_count": 3,
     "metadata": {},
     "output_type": "execute_result"
    }
   ],
   "source": [
    "dict"
   ]
  },
  {
   "cell_type": "code",
   "execution_count": 21,
   "metadata": {},
   "outputs": [
    {
     "data": {
      "text/plain": [
       "{'Education': 121,\n",
       " 'Office': 290,\n",
       " 'Healthcare': 1285,\n",
       " 'Lodging/residential': 240}"
      ]
     },
     "execution_count": 21,
     "metadata": {},
     "output_type": "execute_result"
    }
   ],
   "source": [
    "dict"
   ]
  },
  {
   "cell_type": "code",
   "execution_count": 22,
   "metadata": {},
   "outputs": [],
   "source": [
    "files=[str(i)+\".csv\" for i in dict.values()]"
   ]
  },
  {
   "cell_type": "code",
   "execution_count": 23,
   "metadata": {},
   "outputs": [
    {
     "data": {
      "text/plain": [
       "['121.csv', '290.csv', '1285.csv', '240.csv']"
      ]
     },
     "execution_count": 23,
     "metadata": {},
     "output_type": "execute_result"
    }
   ],
   "source": [
    "files"
   ]
  },
  {
   "cell_type": "code",
   "execution_count": 24,
   "metadata": {},
   "outputs": [],
   "source": [
    "import os\n",
    "for file in files:\n",
    "    #copy file to clustering/dataset\n",
    "    os.system(\"cp dataset/train/\"+file+\" clustering/dataset/train/\"+file)"
   ]
  },
  {
   "cell_type": "code",
   "execution_count": 25,
   "metadata": {},
   "outputs": [],
   "source": [
    "import pandas as pd\n",
    "df=pd.read_csv('train_features.csv')\n",
    "categories=['Education',\n",
    "'Office',\n",
    "'Healthcare',\n",
    "'Lodging/residential']\n",
    "dict={}\n",
    "for category in categories:\n",
    "    tmp=df[df['primary_use']==category]\n",
    "    tmp.reset_index(inplace=True)\n",
    "    dict_tmp={}\n",
    "    for building_id in tmp['building_id'].unique():\n",
    "        #update dict_tmp with key=building_id and value is the number of NANs\n",
    "        dict_tmp[building_id]=tmp[tmp['building_id']==building_id].isnull().sum().sum()\n",
    "    #update dict with key=category and value=the key of the building_id with the least NANs\n",
    "    min_key=min(dict_tmp, key=dict_tmp.get)\n",
    "    #drop the min_key from dict_tmp\n",
    "    dict_tmp.pop(min_key)\n",
    "    min_key=min(dict_tmp, key=dict_tmp.get)\n",
    "    dict_tmp.pop(min_key)\n",
    "    dict[category]=min(dict_tmp, key=dict_tmp.get)"
   ]
  },
  {
   "cell_type": "code",
   "execution_count": 26,
   "metadata": {},
   "outputs": [
    {
     "data": {
      "text/plain": [
       "['159.csv', '293.csv', '1300.csv', '1309.csv']"
      ]
     },
     "execution_count": 26,
     "metadata": {},
     "output_type": "execute_result"
    }
   ],
   "source": [
    "files=[str(i)+\".csv\" for i in dict.values()]\n",
    "files"
   ]
  },
  {
   "cell_type": "code",
   "execution_count": null,
   "metadata": {},
   "outputs": [],
   "source": [
    "import os\n",
    "for file in files:\n",
    "    #copy file to clustering/dataset\n",
    "    os.system(\"cp dataset/train/\"+file+\" clustering/dataset/test/\"+file)"
   ]
  },
  {
   "cell_type": "code",
   "execution_count": null,
   "metadata": {},
   "outputs": [],
   "source": []
  }
 ],
 "metadata": {
  "kernelspec": {
   "display_name": "Python 3",
   "language": "python",
   "name": "python3"
  },
  "language_info": {
   "codemirror_mode": {
    "name": "ipython",
    "version": 3
   },
   "file_extension": ".py",
   "mimetype": "text/x-python",
   "name": "python",
   "nbconvert_exporter": "python",
   "pygments_lexer": "ipython3",
   "version": "3.10.12"
  },
  "orig_nbformat": 4
 },
 "nbformat": 4,
 "nbformat_minor": 2
}
