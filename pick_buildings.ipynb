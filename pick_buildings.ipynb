{
 "cells": [
  {
   "cell_type": "code",
   "execution_count": 1,
   "metadata": {},
   "outputs": [],
   "source": [
    "import pandas as pd"
   ]
  },
  {
   "cell_type": "code",
   "execution_count": 2,
   "metadata": {},
   "outputs": [],
   "source": [
    "df=pd.read_csv('train_features.csv')"
   ]
  },
  {
   "cell_type": "code",
   "execution_count": 3,
   "metadata": {},
   "outputs": [
    {
     "data": {
      "text/plain": [
       "Index(['building_id', 'timestamp', 'meter_reading', 'anomaly', 'site_id',\n",
       "       'primary_use', 'square_feet', 'year_built', 'floor_count',\n",
       "       'air_temperature', 'cloud_coverage', 'dew_temperature',\n",
       "       'precip_depth_1_hr', 'sea_level_pressure', 'wind_direction',\n",
       "       'wind_speed', 'air_temperature_mean_lag7', 'air_temperature_max_lag7',\n",
       "       'air_temperature_min_lag7', 'air_temperature_std_lag7',\n",
       "       'air_temperature_mean_lag73', 'air_temperature_max_lag73',\n",
       "       'air_temperature_min_lag73', 'air_temperature_std_lag73', 'hour',\n",
       "       'weekday', 'month', 'year', 'weekday_hour', 'hour_x', 'hour_y',\n",
       "       'month_x', 'month_y', 'weekday_x', 'weekday_y', 'building_weekday_hour',\n",
       "       'building_weekday', 'building_month', 'building_hour', 'building_meter',\n",
       "       'is_holiday', 'gte_hour', 'gte_weekday', 'gte_month', 'gte_building_id',\n",
       "       'gte_primary_use', 'gte_site_id', 'gte_meter', 'gte_meter_hour',\n",
       "       'gte_meter_weekday', 'gte_meter_month', 'gte_meter_building_id',\n",
       "       'gte_meter_primary_use', 'gte_meter_site_id',\n",
       "       'gte_meter_building_id_hour', 'gte_meter_building_id_weekday',\n",
       "       'gte_meter_building_id_month'],\n",
       "      dtype='object')"
      ]
     },
     "execution_count": 3,
     "metadata": {},
     "output_type": "execute_result"
    }
   ],
   "source": [
    "df.columns"
   ]
  },
  {
   "cell_type": "code",
   "execution_count": 4,
   "metadata": {},
   "outputs": [
    {
     "data": {
      "text/plain": [
       "Education                        700790\n",
       "Office                           542577\n",
       "Entertainment/public assembly    200345\n",
       "Lodging/residential              114050\n",
       "Public services                   61461\n",
       "Healthcare                        43919\n",
       "Services                          26306\n",
       "Parking                           17568\n",
       "Manufacturing/industrial          17568\n",
       "Food sales and service             8784\n",
       "Other                              8655\n",
       "Religious worship                  7471\n",
       "Name: primary_use, dtype: int64"
      ]
     },
     "execution_count": 4,
     "metadata": {},
     "output_type": "execute_result"
    }
   ],
   "source": [
    "df['primary_use'].value_counts()"
   ]
  },
  {
   "cell_type": "code",
   "execution_count": 126,
   "metadata": {},
   "outputs": [],
   "source": [
    "categories=['Education',\n",
    "'Office',\n",
    "'Entertainment/public assembly',\n",
    "'Lodging/residential',\n",
    "'Public services',\n",
    "'Healthcare']"
   ]
  },
  {
   "cell_type": "code",
   "execution_count": 127,
   "metadata": {},
   "outputs": [],
   "source": [
    "def get_missing_hours(building):\n",
    "    test=pd.read_csv('dataset/train/{}.csv'.format(building))\n",
    "    test['timestamp'] = pd.to_datetime(test['timestamp'], format='%Y/%m/%d %H:%M:%S')\n",
    "    existing_hours = test['timestamp'].dt.floor('H').unique()\n",
    "\n",
    "    start_date = test['timestamp'].min().replace(minute=0, second=0)\n",
    "    end_date = test['timestamp'].max().replace(minute=0, second=0)\n",
    "    date_range = pd.date_range(start=start_date, end=end_date, freq='H')\n",
    "    # Check if all hours in the date range are present\n",
    "    all_hours_present = all(hour in existing_hours for hour in date_range)\n",
    "    missing_hours = [hour for hour in date_range if hour not in existing_hours]\n",
    "    return(len(missing_hours))"
   ]
  },
  {
   "cell_type": "code",
   "execution_count": 128,
   "metadata": {},
   "outputs": [
    {
     "data": {
      "text/plain": [
       "0    8683\n",
       "1      79\n",
       "Name: anomaly, dtype: int64"
      ]
     },
     "execution_count": 128,
     "metadata": {},
     "output_type": "execute_result"
    }
   ],
   "source": [
    "#extract the number of 0 in the building\n",
    "\n",
    "df.loc[df['building_id']==dict[category], 'anomaly'].value_counts()\n"
   ]
  },
  {
   "cell_type": "code",
   "execution_count": 129,
   "metadata": {},
   "outputs": [
    {
     "name": "stdout",
     "output_type": "stream",
     "text": [
      "Education\n"
     ]
    },
    {
     "name": "stderr",
     "output_type": "stream",
     "text": [
      "/tmp/ipykernel_11641/2711445086.py:27: FutureWarning: The frame.append method is deprecated and will be removed from pandas in a future version. Use pandas.concat instead.\n",
      "  data = data.append(new_data, ignore_index=True)\n",
      "/tmp/ipykernel_11641/2711445086.py:27: FutureWarning: The frame.append method is deprecated and will be removed from pandas in a future version. Use pandas.concat instead.\n",
      "  data = data.append(new_data, ignore_index=True)\n",
      "/tmp/ipykernel_11641/2711445086.py:27: FutureWarning: The frame.append method is deprecated and will be removed from pandas in a future version. Use pandas.concat instead.\n",
      "  data = data.append(new_data, ignore_index=True)\n",
      "/tmp/ipykernel_11641/2711445086.py:27: FutureWarning: The frame.append method is deprecated and will be removed from pandas in a future version. Use pandas.concat instead.\n",
      "  data = data.append(new_data, ignore_index=True)\n",
      "/tmp/ipykernel_11641/2711445086.py:27: FutureWarning: The frame.append method is deprecated and will be removed from pandas in a future version. Use pandas.concat instead.\n",
      "  data = data.append(new_data, ignore_index=True)\n"
     ]
    },
    {
     "name": "stdout",
     "output_type": "stream",
     "text": [
      "Office\n"
     ]
    },
    {
     "name": "stderr",
     "output_type": "stream",
     "text": [
      "/tmp/ipykernel_11641/2711445086.py:27: FutureWarning: The frame.append method is deprecated and will be removed from pandas in a future version. Use pandas.concat instead.\n",
      "  data = data.append(new_data, ignore_index=True)\n",
      "/tmp/ipykernel_11641/2711445086.py:27: FutureWarning: The frame.append method is deprecated and will be removed from pandas in a future version. Use pandas.concat instead.\n",
      "  data = data.append(new_data, ignore_index=True)\n",
      "/tmp/ipykernel_11641/2711445086.py:27: FutureWarning: The frame.append method is deprecated and will be removed from pandas in a future version. Use pandas.concat instead.\n",
      "  data = data.append(new_data, ignore_index=True)\n",
      "/tmp/ipykernel_11641/2711445086.py:27: FutureWarning: The frame.append method is deprecated and will be removed from pandas in a future version. Use pandas.concat instead.\n",
      "  data = data.append(new_data, ignore_index=True)\n",
      "/tmp/ipykernel_11641/2711445086.py:27: FutureWarning: The frame.append method is deprecated and will be removed from pandas in a future version. Use pandas.concat instead.\n",
      "  data = data.append(new_data, ignore_index=True)\n"
     ]
    },
    {
     "name": "stdout",
     "output_type": "stream",
     "text": [
      "Entertainment/public assembly\n"
     ]
    },
    {
     "name": "stderr",
     "output_type": "stream",
     "text": [
      "/tmp/ipykernel_11641/2711445086.py:27: FutureWarning: The frame.append method is deprecated and will be removed from pandas in a future version. Use pandas.concat instead.\n",
      "  data = data.append(new_data, ignore_index=True)\n",
      "/tmp/ipykernel_11641/2711445086.py:27: FutureWarning: The frame.append method is deprecated and will be removed from pandas in a future version. Use pandas.concat instead.\n",
      "  data = data.append(new_data, ignore_index=True)\n",
      "/tmp/ipykernel_11641/2711445086.py:27: FutureWarning: The frame.append method is deprecated and will be removed from pandas in a future version. Use pandas.concat instead.\n",
      "  data = data.append(new_data, ignore_index=True)\n",
      "/tmp/ipykernel_11641/2711445086.py:27: FutureWarning: The frame.append method is deprecated and will be removed from pandas in a future version. Use pandas.concat instead.\n",
      "  data = data.append(new_data, ignore_index=True)\n",
      "/tmp/ipykernel_11641/2711445086.py:27: FutureWarning: The frame.append method is deprecated and will be removed from pandas in a future version. Use pandas.concat instead.\n",
      "  data = data.append(new_data, ignore_index=True)\n"
     ]
    },
    {
     "name": "stdout",
     "output_type": "stream",
     "text": [
      "Lodging/residential\n"
     ]
    },
    {
     "name": "stderr",
     "output_type": "stream",
     "text": [
      "/tmp/ipykernel_11641/2711445086.py:27: FutureWarning: The frame.append method is deprecated and will be removed from pandas in a future version. Use pandas.concat instead.\n",
      "  data = data.append(new_data, ignore_index=True)\n",
      "/tmp/ipykernel_11641/2711445086.py:27: FutureWarning: The frame.append method is deprecated and will be removed from pandas in a future version. Use pandas.concat instead.\n",
      "  data = data.append(new_data, ignore_index=True)\n",
      "/tmp/ipykernel_11641/2711445086.py:27: FutureWarning: The frame.append method is deprecated and will be removed from pandas in a future version. Use pandas.concat instead.\n",
      "  data = data.append(new_data, ignore_index=True)\n",
      "/tmp/ipykernel_11641/2711445086.py:27: FutureWarning: The frame.append method is deprecated and will be removed from pandas in a future version. Use pandas.concat instead.\n",
      "  data = data.append(new_data, ignore_index=True)\n",
      "/tmp/ipykernel_11641/2711445086.py:27: FutureWarning: The frame.append method is deprecated and will be removed from pandas in a future version. Use pandas.concat instead.\n",
      "  data = data.append(new_data, ignore_index=True)\n"
     ]
    },
    {
     "name": "stdout",
     "output_type": "stream",
     "text": [
      "Public services\n"
     ]
    },
    {
     "name": "stderr",
     "output_type": "stream",
     "text": [
      "/tmp/ipykernel_11641/2711445086.py:27: FutureWarning: The frame.append method is deprecated and will be removed from pandas in a future version. Use pandas.concat instead.\n",
      "  data = data.append(new_data, ignore_index=True)\n",
      "/tmp/ipykernel_11641/2711445086.py:27: FutureWarning: The frame.append method is deprecated and will be removed from pandas in a future version. Use pandas.concat instead.\n",
      "  data = data.append(new_data, ignore_index=True)\n",
      "/tmp/ipykernel_11641/2711445086.py:27: FutureWarning: The frame.append method is deprecated and will be removed from pandas in a future version. Use pandas.concat instead.\n",
      "  data = data.append(new_data, ignore_index=True)\n",
      "/tmp/ipykernel_11641/2711445086.py:27: FutureWarning: The frame.append method is deprecated and will be removed from pandas in a future version. Use pandas.concat instead.\n",
      "  data = data.append(new_data, ignore_index=True)\n",
      "/tmp/ipykernel_11641/2711445086.py:27: FutureWarning: The frame.append method is deprecated and will be removed from pandas in a future version. Use pandas.concat instead.\n",
      "  data = data.append(new_data, ignore_index=True)\n"
     ]
    },
    {
     "name": "stdout",
     "output_type": "stream",
     "text": [
      "Healthcare\n"
     ]
    },
    {
     "name": "stderr",
     "output_type": "stream",
     "text": [
      "/tmp/ipykernel_11641/2711445086.py:27: FutureWarning: The frame.append method is deprecated and will be removed from pandas in a future version. Use pandas.concat instead.\n",
      "  data = data.append(new_data, ignore_index=True)\n",
      "/tmp/ipykernel_11641/2711445086.py:27: FutureWarning: The frame.append method is deprecated and will be removed from pandas in a future version. Use pandas.concat instead.\n",
      "  data = data.append(new_data, ignore_index=True)\n",
      "/tmp/ipykernel_11641/2711445086.py:27: FutureWarning: The frame.append method is deprecated and will be removed from pandas in a future version. Use pandas.concat instead.\n",
      "  data = data.append(new_data, ignore_index=True)\n",
      "/tmp/ipykernel_11641/2711445086.py:27: FutureWarning: The frame.append method is deprecated and will be removed from pandas in a future version. Use pandas.concat instead.\n",
      "  data = data.append(new_data, ignore_index=True)\n",
      "/tmp/ipykernel_11641/2711445086.py:27: FutureWarning: The frame.append method is deprecated and will be removed from pandas in a future version. Use pandas.concat instead.\n",
      "  data = data.append(new_data, ignore_index=True)\n"
     ]
    }
   ],
   "source": [
    "#for each category, count the number of NaNs for each building_id\n",
    "data=pd.DataFrame()\n",
    "dict={}\n",
    "for category in categories:\n",
    "    print(category)\n",
    "    for ind in range(5):\n",
    "        tmp=df[df['primary_use']==category]\n",
    "        tmp.reset_index(inplace=True)\n",
    "        \n",
    "        if ind>0:\n",
    "            pass\n",
    "        else:\n",
    "            dict_tmp={}\n",
    "            for building_id in tmp['building_id'].unique():\n",
    "                #update dict_tmp with key=building_id and value is the number of NANs\n",
    "                dict_tmp[building_id]=tmp[tmp['building_id']==building_id].isnull().sum().sum() + get_missing_hours(building_id)\n",
    "            #update dict with key=category and value=the key of the building_id with the least NANs\n",
    "\n",
    "        \n",
    "        min_key = min(dict_tmp, key=dict_tmp.get)\n",
    "\n",
    "        # Remove the key-value pair with the minimum value\n",
    "        if ind>0:\n",
    "            del dict_tmp[min_key]\n",
    "        dict[category]=min(dict_tmp, key=dict_tmp.get)\n",
    "        new_data={\"building\":dict[category],\"missing\":tmp[tmp['building_id']==dict[category]].isnull().sum().sum() + get_missing_hours(dict[category]),\"category\":category,\"anomalies\":df.loc[df['building_id']==dict[category], 'anomaly'].value_counts()[1],\"total\":df.loc[df['building_id']==dict[category], 'anomaly'].value_counts()[0]+df.loc[df['building_id']==dict[category], 'anomaly'].value_counts()[1]}\n",
    "        data = data.append(new_data, ignore_index=True)\n",
    "        #dict[category]=min(dict_tmp, key=dict_tmp.get)\n"
   ]
  },
  {
   "cell_type": "code",
   "execution_count": 98,
   "metadata": {},
   "outputs": [
    {
     "data": {
      "text/plain": [
       "{}"
      ]
     },
     "execution_count": 98,
     "metadata": {},
     "output_type": "execute_result"
    }
   ],
   "source": [
    "dict"
   ]
  },
  {
   "cell_type": "code",
   "execution_count": 130,
   "metadata": {},
   "outputs": [
    {
     "data": {
      "text/html": [
       "<div>\n",
       "<style scoped>\n",
       "    .dataframe tbody tr th:only-of-type {\n",
       "        vertical-align: middle;\n",
       "    }\n",
       "\n",
       "    .dataframe tbody tr th {\n",
       "        vertical-align: top;\n",
       "    }\n",
       "\n",
       "    .dataframe thead th {\n",
       "        text-align: right;\n",
       "    }\n",
       "</style>\n",
       "<table border=\"1\" class=\"dataframe\">\n",
       "  <thead>\n",
       "    <tr style=\"text-align: right;\">\n",
       "      <th></th>\n",
       "      <th>building</th>\n",
       "      <th>missing</th>\n",
       "      <th>category</th>\n",
       "      <th>anomalies</th>\n",
       "      <th>total</th>\n",
       "    </tr>\n",
       "  </thead>\n",
       "  <tbody>\n",
       "    <tr>\n",
       "      <th>0</th>\n",
       "      <td>118</td>\n",
       "      <td>0</td>\n",
       "      <td>Education</td>\n",
       "      <td>166</td>\n",
       "      <td>8784</td>\n",
       "    </tr>\n",
       "    <tr>\n",
       "      <th>1</th>\n",
       "      <td>121</td>\n",
       "      <td>0</td>\n",
       "      <td>Education</td>\n",
       "      <td>184</td>\n",
       "      <td>8784</td>\n",
       "    </tr>\n",
       "    <tr>\n",
       "      <th>2</th>\n",
       "      <td>697</td>\n",
       "      <td>0</td>\n",
       "      <td>Education</td>\n",
       "      <td>158</td>\n",
       "      <td>8784</td>\n",
       "    </tr>\n",
       "    <tr>\n",
       "      <th>3</th>\n",
       "      <td>623</td>\n",
       "      <td>1</td>\n",
       "      <td>Education</td>\n",
       "      <td>144</td>\n",
       "      <td>8783</td>\n",
       "    </tr>\n",
       "    <tr>\n",
       "      <th>4</th>\n",
       "      <td>253</td>\n",
       "      <td>2</td>\n",
       "      <td>Education</td>\n",
       "      <td>114</td>\n",
       "      <td>8782</td>\n",
       "    </tr>\n",
       "    <tr>\n",
       "      <th>5</th>\n",
       "      <td>1074</td>\n",
       "      <td>0</td>\n",
       "      <td>Office</td>\n",
       "      <td>196</td>\n",
       "      <td>8784</td>\n",
       "    </tr>\n",
       "    <tr>\n",
       "      <th>6</th>\n",
       "      <td>1143</td>\n",
       "      <td>0</td>\n",
       "      <td>Office</td>\n",
       "      <td>80</td>\n",
       "      <td>8784</td>\n",
       "    </tr>\n",
       "    <tr>\n",
       "      <th>7</th>\n",
       "      <td>290</td>\n",
       "      <td>1</td>\n",
       "      <td>Office</td>\n",
       "      <td>309</td>\n",
       "      <td>8783</td>\n",
       "    </tr>\n",
       "    <tr>\n",
       "      <th>8</th>\n",
       "      <td>1073</td>\n",
       "      <td>1</td>\n",
       "      <td>Office</td>\n",
       "      <td>143</td>\n",
       "      <td>8784</td>\n",
       "    </tr>\n",
       "    <tr>\n",
       "      <th>9</th>\n",
       "      <td>1219</td>\n",
       "      <td>1</td>\n",
       "      <td>Office</td>\n",
       "      <td>175</td>\n",
       "      <td>8784</td>\n",
       "    </tr>\n",
       "    <tr>\n",
       "      <th>10</th>\n",
       "      <td>1147</td>\n",
       "      <td>0</td>\n",
       "      <td>Entertainment/public assembly</td>\n",
       "      <td>125</td>\n",
       "      <td>8784</td>\n",
       "    </tr>\n",
       "    <tr>\n",
       "      <th>11</th>\n",
       "      <td>666</td>\n",
       "      <td>4</td>\n",
       "      <td>Entertainment/public assembly</td>\n",
       "      <td>95</td>\n",
       "      <td>8784</td>\n",
       "    </tr>\n",
       "    <tr>\n",
       "      <th>12</th>\n",
       "      <td>254</td>\n",
       "      <td>6</td>\n",
       "      <td>Entertainment/public assembly</td>\n",
       "      <td>156</td>\n",
       "      <td>8783</td>\n",
       "    </tr>\n",
       "    <tr>\n",
       "      <th>13</th>\n",
       "      <td>667</td>\n",
       "      <td>7</td>\n",
       "      <td>Entertainment/public assembly</td>\n",
       "      <td>211</td>\n",
       "      <td>8784</td>\n",
       "    </tr>\n",
       "    <tr>\n",
       "      <th>14</th>\n",
       "      <td>658</td>\n",
       "      <td>11</td>\n",
       "      <td>Entertainment/public assembly</td>\n",
       "      <td>138</td>\n",
       "      <td>8784</td>\n",
       "    </tr>\n",
       "    <tr>\n",
       "      <th>15</th>\n",
       "      <td>1311</td>\n",
       "      <td>34</td>\n",
       "      <td>Lodging/residential</td>\n",
       "      <td>278</td>\n",
       "      <td>8784</td>\n",
       "    </tr>\n",
       "    <tr>\n",
       "      <th>16</th>\n",
       "      <td>240</td>\n",
       "      <td>59</td>\n",
       "      <td>Lodging/residential</td>\n",
       "      <td>80</td>\n",
       "      <td>8782</td>\n",
       "    </tr>\n",
       "    <tr>\n",
       "      <th>17</th>\n",
       "      <td>1309</td>\n",
       "      <td>63</td>\n",
       "      <td>Lodging/residential</td>\n",
       "      <td>269</td>\n",
       "      <td>8784</td>\n",
       "    </tr>\n",
       "    <tr>\n",
       "      <th>18</th>\n",
       "      <td>1310</td>\n",
       "      <td>64</td>\n",
       "      <td>Lodging/residential</td>\n",
       "      <td>253</td>\n",
       "      <td>8784</td>\n",
       "    </tr>\n",
       "    <tr>\n",
       "      <th>19</th>\n",
       "      <td>1306</td>\n",
       "      <td>66</td>\n",
       "      <td>Lodging/residential</td>\n",
       "      <td>276</td>\n",
       "      <td>8784</td>\n",
       "    </tr>\n",
       "    <tr>\n",
       "      <th>20</th>\n",
       "      <td>680</td>\n",
       "      <td>11</td>\n",
       "      <td>Public services</td>\n",
       "      <td>155</td>\n",
       "      <td>8784</td>\n",
       "    </tr>\n",
       "    <tr>\n",
       "      <th>21</th>\n",
       "      <td>356</td>\n",
       "      <td>20</td>\n",
       "      <td>Public services</td>\n",
       "      <td>101</td>\n",
       "      <td>8782</td>\n",
       "    </tr>\n",
       "    <tr>\n",
       "      <th>22</th>\n",
       "      <td>677</td>\n",
       "      <td>54</td>\n",
       "      <td>Public services</td>\n",
       "      <td>86</td>\n",
       "      <td>8784</td>\n",
       "    </tr>\n",
       "    <tr>\n",
       "      <th>23</th>\n",
       "      <td>1266</td>\n",
       "      <td>56</td>\n",
       "      <td>Public services</td>\n",
       "      <td>225</td>\n",
       "      <td>8759</td>\n",
       "    </tr>\n",
       "    <tr>\n",
       "      <th>24</th>\n",
       "      <td>1272</td>\n",
       "      <td>625</td>\n",
       "      <td>Public services</td>\n",
       "      <td>234</td>\n",
       "      <td>8784</td>\n",
       "    </tr>\n",
       "    <tr>\n",
       "      <th>25</th>\n",
       "      <td>1245</td>\n",
       "      <td>37</td>\n",
       "      <td>Healthcare</td>\n",
       "      <td>185</td>\n",
       "      <td>8784</td>\n",
       "    </tr>\n",
       "    <tr>\n",
       "      <th>26</th>\n",
       "      <td>1285</td>\n",
       "      <td>108</td>\n",
       "      <td>Healthcare</td>\n",
       "      <td>170</td>\n",
       "      <td>8784</td>\n",
       "    </tr>\n",
       "    <tr>\n",
       "      <th>27</th>\n",
       "      <td>1300</td>\n",
       "      <td>643</td>\n",
       "      <td>Healthcare</td>\n",
       "      <td>162</td>\n",
       "      <td>8784</td>\n",
       "    </tr>\n",
       "    <tr>\n",
       "      <th>28</th>\n",
       "      <td>1241</td>\n",
       "      <td>3125</td>\n",
       "      <td>Healthcare</td>\n",
       "      <td>85</td>\n",
       "      <td>8783</td>\n",
       "    </tr>\n",
       "    <tr>\n",
       "      <th>29</th>\n",
       "      <td>1303</td>\n",
       "      <td>3150</td>\n",
       "      <td>Healthcare</td>\n",
       "      <td>214</td>\n",
       "      <td>8784</td>\n",
       "    </tr>\n",
       "  </tbody>\n",
       "</table>\n",
       "</div>"
      ],
      "text/plain": [
       "    building  missing                       category  anomalies  total\n",
       "0        118        0                      Education        166   8784\n",
       "1        121        0                      Education        184   8784\n",
       "2        697        0                      Education        158   8784\n",
       "3        623        1                      Education        144   8783\n",
       "4        253        2                      Education        114   8782\n",
       "5       1074        0                         Office        196   8784\n",
       "6       1143        0                         Office         80   8784\n",
       "7        290        1                         Office        309   8783\n",
       "8       1073        1                         Office        143   8784\n",
       "9       1219        1                         Office        175   8784\n",
       "10      1147        0  Entertainment/public assembly        125   8784\n",
       "11       666        4  Entertainment/public assembly         95   8784\n",
       "12       254        6  Entertainment/public assembly        156   8783\n",
       "13       667        7  Entertainment/public assembly        211   8784\n",
       "14       658       11  Entertainment/public assembly        138   8784\n",
       "15      1311       34            Lodging/residential        278   8784\n",
       "16       240       59            Lodging/residential         80   8782\n",
       "17      1309       63            Lodging/residential        269   8784\n",
       "18      1310       64            Lodging/residential        253   8784\n",
       "19      1306       66            Lodging/residential        276   8784\n",
       "20       680       11                Public services        155   8784\n",
       "21       356       20                Public services        101   8782\n",
       "22       677       54                Public services         86   8784\n",
       "23      1266       56                Public services        225   8759\n",
       "24      1272      625                Public services        234   8784\n",
       "25      1245       37                     Healthcare        185   8784\n",
       "26      1285      108                     Healthcare        170   8784\n",
       "27      1300      643                     Healthcare        162   8784\n",
       "28      1241     3125                     Healthcare         85   8783\n",
       "29      1303     3150                     Healthcare        214   8784"
      ]
     },
     "execution_count": 130,
     "metadata": {},
     "output_type": "execute_result"
    }
   ],
   "source": [
    "data"
   ]
  },
  {
   "cell_type": "code",
   "execution_count": 131,
   "metadata": {},
   "outputs": [],
   "source": [
    "agg_df = data.groupby('category').agg({'building': list, 'missing': 'sum', 'anomalies': 'sum', 'total': 'sum'}).reset_index()"
   ]
  },
  {
   "cell_type": "code",
   "execution_count": 132,
   "metadata": {},
   "outputs": [
    {
     "data": {
      "text/html": [
       "<div>\n",
       "<style scoped>\n",
       "    .dataframe tbody tr th:only-of-type {\n",
       "        vertical-align: middle;\n",
       "    }\n",
       "\n",
       "    .dataframe tbody tr th {\n",
       "        vertical-align: top;\n",
       "    }\n",
       "\n",
       "    .dataframe thead th {\n",
       "        text-align: right;\n",
       "    }\n",
       "</style>\n",
       "<table border=\"1\" class=\"dataframe\">\n",
       "  <thead>\n",
       "    <tr style=\"text-align: right;\">\n",
       "      <th></th>\n",
       "      <th>category</th>\n",
       "      <th>building</th>\n",
       "      <th>missing</th>\n",
       "      <th>anomalies</th>\n",
       "      <th>total</th>\n",
       "    </tr>\n",
       "  </thead>\n",
       "  <tbody>\n",
       "    <tr>\n",
       "      <th>0</th>\n",
       "      <td>Education</td>\n",
       "      <td>[118, 121, 697, 623, 253]</td>\n",
       "      <td>3</td>\n",
       "      <td>766</td>\n",
       "      <td>43917</td>\n",
       "    </tr>\n",
       "    <tr>\n",
       "      <th>1</th>\n",
       "      <td>Entertainment/public assembly</td>\n",
       "      <td>[1147, 666, 254, 667, 658]</td>\n",
       "      <td>28</td>\n",
       "      <td>725</td>\n",
       "      <td>43919</td>\n",
       "    </tr>\n",
       "    <tr>\n",
       "      <th>2</th>\n",
       "      <td>Healthcare</td>\n",
       "      <td>[1245, 1285, 1300, 1241, 1303]</td>\n",
       "      <td>7063</td>\n",
       "      <td>816</td>\n",
       "      <td>43919</td>\n",
       "    </tr>\n",
       "    <tr>\n",
       "      <th>3</th>\n",
       "      <td>Lodging/residential</td>\n",
       "      <td>[1311, 240, 1309, 1310, 1306]</td>\n",
       "      <td>286</td>\n",
       "      <td>1156</td>\n",
       "      <td>43918</td>\n",
       "    </tr>\n",
       "    <tr>\n",
       "      <th>4</th>\n",
       "      <td>Office</td>\n",
       "      <td>[1074, 1143, 290, 1073, 1219]</td>\n",
       "      <td>3</td>\n",
       "      <td>903</td>\n",
       "      <td>43919</td>\n",
       "    </tr>\n",
       "    <tr>\n",
       "      <th>5</th>\n",
       "      <td>Public services</td>\n",
       "      <td>[680, 356, 677, 1266, 1272]</td>\n",
       "      <td>766</td>\n",
       "      <td>801</td>\n",
       "      <td>43893</td>\n",
       "    </tr>\n",
       "  </tbody>\n",
       "</table>\n",
       "</div>"
      ],
      "text/plain": [
       "                        category                        building  missing  \\\n",
       "0                      Education       [118, 121, 697, 623, 253]        3   \n",
       "1  Entertainment/public assembly      [1147, 666, 254, 667, 658]       28   \n",
       "2                     Healthcare  [1245, 1285, 1300, 1241, 1303]     7063   \n",
       "3            Lodging/residential   [1311, 240, 1309, 1310, 1306]      286   \n",
       "4                         Office   [1074, 1143, 290, 1073, 1219]        3   \n",
       "5                Public services     [680, 356, 677, 1266, 1272]      766   \n",
       "\n",
       "   anomalies  total  \n",
       "0        766  43917  \n",
       "1        725  43919  \n",
       "2        816  43919  \n",
       "3       1156  43918  \n",
       "4        903  43919  \n",
       "5        801  43893  "
      ]
     },
     "execution_count": 132,
     "metadata": {},
     "output_type": "execute_result"
    }
   ],
   "source": [
    "agg_df"
   ]
  },
  {
   "cell_type": "code",
   "execution_count": 133,
   "metadata": {},
   "outputs": [],
   "source": [
    "agg_df['anomaly%'] = 100 * agg_df['anomalies'] / agg_df['total']\n",
    "agg_df['missing%'] = 100 * agg_df['missing'] / agg_df['total']"
   ]
  },
  {
   "cell_type": "code",
   "execution_count": 138,
   "metadata": {},
   "outputs": [],
   "source": [
    "agg_df.to_csv('pick_buildings.csv', index=False)"
   ]
  },
  {
   "cell_type": "code",
   "execution_count": 139,
   "metadata": {},
   "outputs": [
    {
     "data": {
      "text/html": [
       "<div>\n",
       "<style scoped>\n",
       "    .dataframe tbody tr th:only-of-type {\n",
       "        vertical-align: middle;\n",
       "    }\n",
       "\n",
       "    .dataframe tbody tr th {\n",
       "        vertical-align: top;\n",
       "    }\n",
       "\n",
       "    .dataframe thead th {\n",
       "        text-align: right;\n",
       "    }\n",
       "</style>\n",
       "<table border=\"1\" class=\"dataframe\">\n",
       "  <thead>\n",
       "    <tr style=\"text-align: right;\">\n",
       "      <th></th>\n",
       "      <th>category</th>\n",
       "      <th>building</th>\n",
       "      <th>missing</th>\n",
       "      <th>anomalies</th>\n",
       "      <th>total</th>\n",
       "      <th>anomaly%</th>\n",
       "      <th>missing%</th>\n",
       "    </tr>\n",
       "  </thead>\n",
       "  <tbody>\n",
       "    <tr>\n",
       "      <th>0</th>\n",
       "      <td>Education</td>\n",
       "      <td>[118, 121, 697, 623, 253]</td>\n",
       "      <td>3</td>\n",
       "      <td>766</td>\n",
       "      <td>43917</td>\n",
       "      <td>1.744199</td>\n",
       "      <td>0.006831</td>\n",
       "    </tr>\n",
       "    <tr>\n",
       "      <th>1</th>\n",
       "      <td>Entertainment/public assembly</td>\n",
       "      <td>[1147, 666, 254, 667, 658]</td>\n",
       "      <td>28</td>\n",
       "      <td>725</td>\n",
       "      <td>43919</td>\n",
       "      <td>1.650766</td>\n",
       "      <td>0.063754</td>\n",
       "    </tr>\n",
       "    <tr>\n",
       "      <th>2</th>\n",
       "      <td>Healthcare</td>\n",
       "      <td>[1245, 1285, 1300, 1241, 1303]</td>\n",
       "      <td>7063</td>\n",
       "      <td>816</td>\n",
       "      <td>43919</td>\n",
       "      <td>1.857966</td>\n",
       "      <td>16.081878</td>\n",
       "    </tr>\n",
       "    <tr>\n",
       "      <th>3</th>\n",
       "      <td>Lodging/residential</td>\n",
       "      <td>[1311, 240, 1309, 1310, 1306]</td>\n",
       "      <td>286</td>\n",
       "      <td>1156</td>\n",
       "      <td>43918</td>\n",
       "      <td>2.632178</td>\n",
       "      <td>0.651214</td>\n",
       "    </tr>\n",
       "    <tr>\n",
       "      <th>4</th>\n",
       "      <td>Office</td>\n",
       "      <td>[1074, 1143, 290, 1073, 1219]</td>\n",
       "      <td>3</td>\n",
       "      <td>903</td>\n",
       "      <td>43919</td>\n",
       "      <td>2.056058</td>\n",
       "      <td>0.006831</td>\n",
       "    </tr>\n",
       "    <tr>\n",
       "      <th>5</th>\n",
       "      <td>Public services</td>\n",
       "      <td>[680, 356, 677, 1266, 1272]</td>\n",
       "      <td>766</td>\n",
       "      <td>801</td>\n",
       "      <td>43893</td>\n",
       "      <td>1.824892</td>\n",
       "      <td>1.745153</td>\n",
       "    </tr>\n",
       "  </tbody>\n",
       "</table>\n",
       "</div>"
      ],
      "text/plain": [
       "                        category                        building  missing  \\\n",
       "0                      Education       [118, 121, 697, 623, 253]        3   \n",
       "1  Entertainment/public assembly      [1147, 666, 254, 667, 658]       28   \n",
       "2                     Healthcare  [1245, 1285, 1300, 1241, 1303]     7063   \n",
       "3            Lodging/residential   [1311, 240, 1309, 1310, 1306]      286   \n",
       "4                         Office   [1074, 1143, 290, 1073, 1219]        3   \n",
       "5                Public services     [680, 356, 677, 1266, 1272]      766   \n",
       "\n",
       "   anomalies  total  anomaly%   missing%  \n",
       "0        766  43917  1.744199   0.006831  \n",
       "1        725  43919  1.650766   0.063754  \n",
       "2        816  43919  1.857966  16.081878  \n",
       "3       1156  43918  2.632178   0.651214  \n",
       "4        903  43919  2.056058   0.006831  \n",
       "5        801  43893  1.824892   1.745153  "
      ]
     },
     "execution_count": 139,
     "metadata": {},
     "output_type": "execute_result"
    }
   ],
   "source": [
    "agg_df"
   ]
  },
  {
   "cell_type": "code",
   "execution_count": 91,
   "metadata": {},
   "outputs": [
    {
     "data": {
      "text/plain": [
       "{'Education': 181,\n",
       " 'Office': 1074,\n",
       " 'Entertainment/public assembly': 658,\n",
       " 'Lodging/residential': 942}"
      ]
     },
     "execution_count": 91,
     "metadata": {},
     "output_type": "execute_result"
    }
   ],
   "source": [
    "dict"
   ]
  },
  {
   "cell_type": "code",
   "execution_count": 93,
   "metadata": {},
   "outputs": [
    {
     "name": "stdout",
     "output_type": "stream",
     "text": [
      "Education : 181\n",
      "0\n",
      "Office : 1074\n",
      "0\n",
      "Entertainment/public assembly : 658\n",
      "11\n",
      "Lodging/residential : 942\n",
      "148\n"
     ]
    }
   ],
   "source": [
    "#show the nan counts for each building_id in dict\n",
    "for key in dict.keys():\n",
    "    print(key,\":\",dict[key])\n",
    "    print(df[df['building_id']==dict[key]].isnull().sum().sum())"
   ]
  },
  {
   "cell_type": "code",
   "execution_count": 94,
   "metadata": {},
   "outputs": [
    {
     "name": "stdout",
     "output_type": "stream",
     "text": [
      "181\n",
      "0    8674\n",
      "1     105\n",
      "Name: anomaly, dtype: int64\n",
      "1074\n",
      "0    8588\n",
      "1     196\n",
      "Name: anomaly, dtype: int64\n",
      "658\n",
      "0    8646\n",
      "1     138\n",
      "Name: anomaly, dtype: int64\n",
      "942\n",
      "0    8633\n",
      "1     131\n",
      "Name: anomaly, dtype: int64\n"
     ]
    }
   ],
   "source": [
    "for item in dict:\n",
    "    print(dict[item])\n",
    "    print(df.loc[df['building_id']==dict[item], 'anomaly'].value_counts())"
   ]
  },
  {
   "cell_type": "code",
   "execution_count": 14,
   "metadata": {},
   "outputs": [
    {
     "data": {
      "text/plain": [
       "8784"
      ]
     },
     "execution_count": 14,
     "metadata": {},
     "output_type": "execute_result"
    }
   ],
   "source": [
    "366*24"
   ]
  },
  {
   "cell_type": "code",
   "execution_count": 70,
   "metadata": {},
   "outputs": [
    {
     "data": {
      "text/html": [
       "<div>\n",
       "<style scoped>\n",
       "    .dataframe tbody tr th:only-of-type {\n",
       "        vertical-align: middle;\n",
       "    }\n",
       "\n",
       "    .dataframe tbody tr th {\n",
       "        vertical-align: top;\n",
       "    }\n",
       "\n",
       "    .dataframe thead th {\n",
       "        text-align: right;\n",
       "    }\n",
       "</style>\n",
       "<table border=\"1\" class=\"dataframe\">\n",
       "  <thead>\n",
       "    <tr style=\"text-align: right;\">\n",
       "      <th></th>\n",
       "      <th>timestamp</th>\n",
       "      <th>building_id</th>\n",
       "      <th>meter_reading</th>\n",
       "      <th>anomaly</th>\n",
       "      <th>filled</th>\n",
       "    </tr>\n",
       "  </thead>\n",
       "  <tbody>\n",
       "    <tr>\n",
       "      <th>0</th>\n",
       "      <td>2016-01-01 00:00:00</td>\n",
       "      <td>844</td>\n",
       "      <td>14.80</td>\n",
       "      <td>0</td>\n",
       "      <td>0</td>\n",
       "    </tr>\n",
       "    <tr>\n",
       "      <th>1</th>\n",
       "      <td>2016-01-01 01:00:00</td>\n",
       "      <td>844</td>\n",
       "      <td>17.61</td>\n",
       "      <td>0</td>\n",
       "      <td>0</td>\n",
       "    </tr>\n",
       "    <tr>\n",
       "      <th>2</th>\n",
       "      <td>2016-01-01 02:00:00</td>\n",
       "      <td>844</td>\n",
       "      <td>17.68</td>\n",
       "      <td>0</td>\n",
       "      <td>0</td>\n",
       "    </tr>\n",
       "    <tr>\n",
       "      <th>3</th>\n",
       "      <td>2016-01-01 03:00:00</td>\n",
       "      <td>844</td>\n",
       "      <td>16.90</td>\n",
       "      <td>0</td>\n",
       "      <td>0</td>\n",
       "    </tr>\n",
       "    <tr>\n",
       "      <th>4</th>\n",
       "      <td>2016-01-01 04:00:00</td>\n",
       "      <td>844</td>\n",
       "      <td>16.74</td>\n",
       "      <td>0</td>\n",
       "      <td>0</td>\n",
       "    </tr>\n",
       "    <tr>\n",
       "      <th>...</th>\n",
       "      <td>...</td>\n",
       "      <td>...</td>\n",
       "      <td>...</td>\n",
       "      <td>...</td>\n",
       "      <td>...</td>\n",
       "    </tr>\n",
       "    <tr>\n",
       "      <th>7954</th>\n",
       "      <td>2016-12-31 19:00:00</td>\n",
       "      <td>844</td>\n",
       "      <td>18.63</td>\n",
       "      <td>0</td>\n",
       "      <td>0</td>\n",
       "    </tr>\n",
       "    <tr>\n",
       "      <th>7955</th>\n",
       "      <td>2016-12-31 20:00:00</td>\n",
       "      <td>844</td>\n",
       "      <td>17.61</td>\n",
       "      <td>0</td>\n",
       "      <td>0</td>\n",
       "    </tr>\n",
       "    <tr>\n",
       "      <th>7956</th>\n",
       "      <td>2016-12-31 21:00:00</td>\n",
       "      <td>844</td>\n",
       "      <td>17.45</td>\n",
       "      <td>0</td>\n",
       "      <td>0</td>\n",
       "    </tr>\n",
       "    <tr>\n",
       "      <th>7957</th>\n",
       "      <td>2016-12-31 22:00:00</td>\n",
       "      <td>844</td>\n",
       "      <td>17.72</td>\n",
       "      <td>0</td>\n",
       "      <td>0</td>\n",
       "    </tr>\n",
       "    <tr>\n",
       "      <th>7958</th>\n",
       "      <td>2016-12-31 23:00:00</td>\n",
       "      <td>844</td>\n",
       "      <td>17.74</td>\n",
       "      <td>0</td>\n",
       "      <td>0</td>\n",
       "    </tr>\n",
       "  </tbody>\n",
       "</table>\n",
       "<p>7959 rows × 5 columns</p>\n",
       "</div>"
      ],
      "text/plain": [
       "                timestamp  building_id  meter_reading  anomaly  filled\n",
       "0     2016-01-01 00:00:00          844          14.80        0       0\n",
       "1     2016-01-01 01:00:00          844          17.61        0       0\n",
       "2     2016-01-01 02:00:00          844          17.68        0       0\n",
       "3     2016-01-01 03:00:00          844          16.90        0       0\n",
       "4     2016-01-01 04:00:00          844          16.74        0       0\n",
       "...                   ...          ...            ...      ...     ...\n",
       "7954  2016-12-31 19:00:00          844          18.63        0       0\n",
       "7955  2016-12-31 20:00:00          844          17.61        0       0\n",
       "7956  2016-12-31 21:00:00          844          17.45        0       0\n",
       "7957  2016-12-31 22:00:00          844          17.72        0       0\n",
       "7958  2016-12-31 23:00:00          844          17.74        0       0\n",
       "\n",
       "[7959 rows x 5 columns]"
      ]
     },
     "execution_count": 70,
     "metadata": {},
     "output_type": "execute_result"
    }
   ],
   "source": [
    "test=pd.read_csv('dataset/train/844.csv')\n",
    "test"
   ]
  },
  {
   "cell_type": "code",
   "execution_count": 95,
   "metadata": {},
   "outputs": [
    {
     "name": "stdout",
     "output_type": "stream",
     "text": [
      "All hours present: True\n",
      "Missing Hours:\n",
      "All hours present: True\n",
      "Missing Hours:\n",
      "All hours present: False\n",
      "Missing Hours:\n",
      "2016/03/23 16:00:00\n",
      "All hours present: True\n",
      "Missing Hours:\n",
      "All hours present: True\n",
      "Missing Hours:\n",
      "{1147: 0, 666: 0, 254: 1, 667: 0, 658: 0}\n",
      "1\n"
     ]
    }
   ],
   "source": [
    "buildings=[1147, 666, 254, 667, 658]\n",
    "dict_missing={}\n",
    "#print(sum(buildings))\n",
    "for building in buildings:    \n",
    "# Get the unique hours from the DataFrame\n",
    "    test=pd.read_csv('dataset/train/{}.csv'.format(building))\n",
    "    test['timestamp'] = pd.to_datetime(test['timestamp'], format='%Y/%m/%d %H:%M:%S')\n",
    "    existing_hours = test['timestamp'].dt.floor('H').unique()\n",
    "\n",
    "    start_date = test['timestamp'].min().replace(minute=0, second=0)\n",
    "    end_date = test['timestamp'].max().replace(minute=0, second=0)\n",
    "    date_range = pd.date_range(start=start_date, end=end_date, freq='H')\n",
    "    # Check if all hours in the date range are present\n",
    "    all_hours_present = all(hour in existing_hours for hour in date_range)\n",
    "    print(f'All hours present: {all_hours_present}')\n",
    "    missing_hours = [hour for hour in date_range if hour not in existing_hours]\n",
    "\n",
    "    # Print the missing hours\n",
    "    print(\"Missing Hours:\")\n",
    "    for hour in missing_hours:\n",
    "        print(hour.strftime('%Y/%m/%d %H:%M:%S'))\n",
    "    dict_missing[building]=len(missing_hours)\n",
    "print(dict_missing)\n",
    "print(sum([int(dict_missing[building]) for building in buildings]))"
   ]
  },
  {
   "cell_type": "code",
   "execution_count": 89,
   "metadata": {},
   "outputs": [
    {
     "name": "stdout",
     "output_type": "stream",
     "text": [
      "0\n"
     ]
    }
   ],
   "source": [
    "print(len(missing_hours))"
   ]
  },
  {
   "cell_type": "code",
   "execution_count": 10,
   "metadata": {},
   "outputs": [],
   "source": [
    "test2=test.copy()"
   ]
  },
  {
   "cell_type": "code",
   "execution_count": 11,
   "metadata": {},
   "outputs": [
    {
     "data": {
      "text/html": [
       "<div>\n",
       "<style scoped>\n",
       "    .dataframe tbody tr th:only-of-type {\n",
       "        vertical-align: middle;\n",
       "    }\n",
       "\n",
       "    .dataframe tbody tr th {\n",
       "        vertical-align: top;\n",
       "    }\n",
       "\n",
       "    .dataframe thead th {\n",
       "        text-align: right;\n",
       "    }\n",
       "</style>\n",
       "<table border=\"1\" class=\"dataframe\">\n",
       "  <thead>\n",
       "    <tr style=\"text-align: right;\">\n",
       "      <th></th>\n",
       "      <th>building_id</th>\n",
       "      <th>meter_reading</th>\n",
       "      <th>anomaly</th>\n",
       "      <th>filled</th>\n",
       "    </tr>\n",
       "    <tr>\n",
       "      <th>timestamp</th>\n",
       "      <th></th>\n",
       "      <th></th>\n",
       "      <th></th>\n",
       "      <th></th>\n",
       "    </tr>\n",
       "  </thead>\n",
       "  <tbody>\n",
       "    <tr>\n",
       "      <th>2016-01-01 00:00:00</th>\n",
       "      <td>246</td>\n",
       "      <td>302.50</td>\n",
       "      <td>0</td>\n",
       "      <td>0</td>\n",
       "    </tr>\n",
       "    <tr>\n",
       "      <th>2016-01-01 01:00:00</th>\n",
       "      <td>246</td>\n",
       "      <td>304.65</td>\n",
       "      <td>0</td>\n",
       "      <td>0</td>\n",
       "    </tr>\n",
       "    <tr>\n",
       "      <th>2016-01-01 02:00:00</th>\n",
       "      <td>246</td>\n",
       "      <td>304.62</td>\n",
       "      <td>0</td>\n",
       "      <td>0</td>\n",
       "    </tr>\n",
       "    <tr>\n",
       "      <th>2016-01-01 03:00:00</th>\n",
       "      <td>246</td>\n",
       "      <td>303.33</td>\n",
       "      <td>0</td>\n",
       "      <td>0</td>\n",
       "    </tr>\n",
       "    <tr>\n",
       "      <th>2016-01-01 04:00:00</th>\n",
       "      <td>246</td>\n",
       "      <td>302.76</td>\n",
       "      <td>0</td>\n",
       "      <td>0</td>\n",
       "    </tr>\n",
       "    <tr>\n",
       "      <th>...</th>\n",
       "      <td>...</td>\n",
       "      <td>...</td>\n",
       "      <td>...</td>\n",
       "      <td>...</td>\n",
       "    </tr>\n",
       "    <tr>\n",
       "      <th>2016-12-31 19:00:00</th>\n",
       "      <td>246</td>\n",
       "      <td>328.67</td>\n",
       "      <td>0</td>\n",
       "      <td>0</td>\n",
       "    </tr>\n",
       "    <tr>\n",
       "      <th>2016-12-31 20:00:00</th>\n",
       "      <td>246</td>\n",
       "      <td>326.50</td>\n",
       "      <td>0</td>\n",
       "      <td>0</td>\n",
       "    </tr>\n",
       "    <tr>\n",
       "      <th>2016-12-31 21:00:00</th>\n",
       "      <td>246</td>\n",
       "      <td>314.44</td>\n",
       "      <td>0</td>\n",
       "      <td>0</td>\n",
       "    </tr>\n",
       "    <tr>\n",
       "      <th>2016-12-31 22:00:00</th>\n",
       "      <td>246</td>\n",
       "      <td>306.91</td>\n",
       "      <td>0</td>\n",
       "      <td>0</td>\n",
       "    </tr>\n",
       "    <tr>\n",
       "      <th>2016-12-31 23:00:00</th>\n",
       "      <td>246</td>\n",
       "      <td>305.01</td>\n",
       "      <td>0</td>\n",
       "      <td>0</td>\n",
       "    </tr>\n",
       "  </tbody>\n",
       "</table>\n",
       "<p>8782 rows × 4 columns</p>\n",
       "</div>"
      ],
      "text/plain": [
       "                     building_id  meter_reading  anomaly  filled\n",
       "timestamp                                                       \n",
       "2016-01-01 00:00:00          246         302.50        0       0\n",
       "2016-01-01 01:00:00          246         304.65        0       0\n",
       "2016-01-01 02:00:00          246         304.62        0       0\n",
       "2016-01-01 03:00:00          246         303.33        0       0\n",
       "2016-01-01 04:00:00          246         302.76        0       0\n",
       "...                          ...            ...      ...     ...\n",
       "2016-12-31 19:00:00          246         328.67        0       0\n",
       "2016-12-31 20:00:00          246         326.50        0       0\n",
       "2016-12-31 21:00:00          246         314.44        0       0\n",
       "2016-12-31 22:00:00          246         306.91        0       0\n",
       "2016-12-31 23:00:00          246         305.01        0       0\n",
       "\n",
       "[8782 rows x 4 columns]"
      ]
     },
     "execution_count": 11,
     "metadata": {},
     "output_type": "execute_result"
    }
   ],
   "source": [
    "# Create a date range for the desired time period\n",
    "test2['timestamp'] = pd.to_datetime(test2['timestamp'], format='%Y/%m/%d %H:%M:%S')\n",
    "\n",
    "start_date = test2['timestamp'].min().replace(minute=0, second=0)\n",
    "end_date = test2['timestamp'].max().replace(minute=0, second=0)\n",
    "date_range = pd.date_range(start=start_date, end=end_date, freq='H')\n",
    "\n",
    "# Create a DataFrame with the complete date range\n",
    "complete_df = pd.DataFrame({'timestamp': date_range})\n",
    "restest2ult_df = complete_df.merge(test2, on='timestamp', how='left')\n",
    "test2['meter_reading'] = test2['meter_reading'].interpolate(method='linear')\n",
    "test2.set_index('timestamp', inplace=True)\n",
    "test2"
   ]
  },
  {
   "cell_type": "code",
   "execution_count": 23,
   "metadata": {},
   "outputs": [
    {
     "data": {
      "text/plain": [
       "{'Education': 121,\n",
       " 'Office': 290,\n",
       " 'Healthcare': 1285,\n",
       " 'Lodging/residential': 240}"
      ]
     },
     "execution_count": 23,
     "metadata": {},
     "output_type": "execute_result"
    }
   ],
   "source": [
    "dict"
   ]
  },
  {
   "cell_type": "code",
   "execution_count": 36,
   "metadata": {},
   "outputs": [
    {
     "name": "stdout",
     "output_type": "stream",
     "text": [
      "Education\n",
      "0\n",
      "Office\n",
      "0\n",
      "Entertainment/public assembly\n",
      "7\n",
      "Lodging/residential\n",
      "66\n"
     ]
    }
   ],
   "source": [
    "#show the nan counts for each building_id in dict\n",
    "for key in dict.keys():\n",
    "    print(key)\n",
    "    print(df[df['building_id']==dict[key]].isnull().sum().sum())"
   ]
  },
  {
   "cell_type": "code",
   "execution_count": 14,
   "metadata": {},
   "outputs": [
    {
     "name": "stdout",
     "output_type": "stream",
     "text": [
      "118\n",
      "0    8618\n",
      "1     166\n",
      "Name: anomaly, dtype: int64\n",
      "246\n",
      "0    8685\n",
      "1      97\n",
      "Name: anomaly, dtype: int64\n",
      "1245\n",
      "0    8599\n",
      "1     185\n",
      "Name: anomaly, dtype: int64\n",
      "1311\n",
      "0    8506\n",
      "1     278\n",
      "Name: anomaly, dtype: int64\n",
      "1141\n",
      "0    8613\n",
      "1     171\n",
      "Name: anomaly, dtype: int64\n"
     ]
    }
   ],
   "source": [
    "for item in dict:\n",
    "    print(dict[item])\n",
    "    print(df.loc[df['building_id']==dict[item], 'anomaly'].value_counts())"
   ]
  },
  {
   "cell_type": "code",
   "execution_count": null,
   "metadata": {},
   "outputs": [],
   "source": []
  }
 ],
 "metadata": {
  "kernelspec": {
   "display_name": "Python 3",
   "language": "python",
   "name": "python3"
  },
  "language_info": {
   "codemirror_mode": {
    "name": "ipython",
    "version": 3
   },
   "file_extension": ".py",
   "mimetype": "text/x-python",
   "name": "python",
   "nbconvert_exporter": "python",
   "pygments_lexer": "ipython3",
   "version": "3.10.12"
  },
  "orig_nbformat": 4
 },
 "nbformat": 4,
 "nbformat_minor": 2
}
