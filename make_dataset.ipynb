{
 "cells": [
  {
   "cell_type": "code",
   "execution_count": 3,
   "metadata": {},
   "outputs": [],
   "source": [
    "import os\n",
    "#check if dataset/ exists\n",
    "if not os.path.exists('dataset'):\n",
    "    os.makedirs('dataset')\n",
    "if not os.path.exists('dataset/train'):\n",
    "    os.makedirs('dataset/train')\n",
    "if not os.path.exists('dataset/test'):\n",
    "    os.makedirs('dataset/test')"
   ]
  },
  {
   "cell_type": "code",
   "execution_count": 4,
   "metadata": {},
   "outputs": [],
   "source": [
    "import pandas as pd\n",
    "import numpy as np\n",
    "\n",
    "#read the csv file\n",
    "train = pd.read_csv('train.csv')\n",
    "#test = pd.read_csv('test.csv')"
   ]
  },
  {
   "cell_type": "code",
   "execution_count": 5,
   "metadata": {},
   "outputs": [],
   "source": [
    "from tqdm import tqdm\n",
    "def make_dataset(df):\n",
    "    pbar = tqdm(total=len(df['building_id'].unique()))\n",
    "    if 'anomaly' in df.columns:\n",
    "        path=\"train\"\n",
    "    else:\n",
    "        path=\"test\"\n",
    "    for i in df['building_id'].unique():\n",
    "        dataset=df[df['building_id'] == i].reset_index(drop=True)\n",
    "        dataset.set_index('timestamp', inplace=True)\n",
    "        dataset.sort_index(inplace=True)\n",
    "        dataset[\"filled\"] = dataset[\"meter_reading\"].apply(lambda x: 1 if np.isnan(x) else 0)\n",
    "        #linear interpolation on the meter_reading \n",
    "\n",
    "        dataset['meter_reading'] = dataset['meter_reading'].interpolate(method='linear')\n",
    "        #apply on meter_reading truncate the values to 3 decimal places\n",
    "        dataset['meter_reading'] = dataset['meter_reading'].apply(lambda x: np.round(x, 3))\n",
    "        if path == \"train\":\n",
    "            dataset['anomaly'] = dataset['anomaly'].fillna(0)\n",
    "            dataset['anomaly'] = dataset['anomaly'].astype(int)\n",
    "        dataset.dropna(inplace=True)\n",
    "        dataset.to_csv('dataset/{}/{}.csv'.format(path,i), index=True)\n",
    "        pbar.update(1)\n",
    "    pbar.close()"
   ]
  },
  {
   "cell_type": "code",
   "execution_count": 6,
   "metadata": {},
   "outputs": [
    {
     "name": "stderr",
     "output_type": "stream",
     "text": [
      "100%|██████████| 200/200 [00:23<00:00,  8.40it/s]\n",
      "100%|██████████| 206/206 [00:25<00:00,  8.00it/s]\n"
     ]
    }
   ],
   "source": [
    "make_dataset(train)\n",
    "make_dataset(test)"
   ]
  },
  {
   "cell_type": "code",
   "execution_count": null,
   "metadata": {},
   "outputs": [],
   "source": []
  }
 ],
 "metadata": {
  "kernelspec": {
   "display_name": "Python 3",
   "language": "python",
   "name": "python3"
  },
  "language_info": {
   "codemirror_mode": {
    "name": "ipython",
    "version": 3
   },
   "file_extension": ".py",
   "mimetype": "text/x-python",
   "name": "python",
   "nbconvert_exporter": "python",
   "pygments_lexer": "ipython3",
   "version": "3.10.12"
  },
  "orig_nbformat": 4
 },
 "nbformat": 4,
 "nbformat_minor": 2
}
